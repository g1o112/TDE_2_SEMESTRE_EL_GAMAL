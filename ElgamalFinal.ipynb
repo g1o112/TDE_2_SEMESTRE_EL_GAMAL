{
  "nbformat": 4,
  "nbformat_minor": 0,
  "metadata": {
    "colab": {
      "provenance": [],
      "authorship_tag": "ABX9TyPTeVCK6AP9EbkEj0YBhiUS",
      "include_colab_link": true
    },
    "kernelspec": {
      "name": "python3",
      "display_name": "Python 3"
    },
    "language_info": {
      "name": "python"
    }
  },
  "cells": [
    {
      "cell_type": "markdown",
      "metadata": {
        "id": "view-in-github",
        "colab_type": "text"
      },
      "source": [
        "<a href=\"https://colab.research.google.com/github/g1o112/TDE_2_SEMESTRE_EL_GAMAL/blob/master/ElgamalFinal.ipynb\" target=\"_parent\"><img src=\"https://colab.research.google.com/assets/colab-badge.svg\" alt=\"Open In Colab\"/></a>"
      ]
    },
    {
      "cell_type": "code",
      "execution_count": null,
      "metadata": {
        "colab": {
          "base_uri": "https://localhost:8080/"
        },
        "id": "PIJzpPPswJLv",
        "outputId": "048d5282-47b2-488e-aabe-690aff1c51fa"
      },
      "outputs": [
        {
          "output_type": "stream",
          "name": "stdout",
          "text": [
            "Mensagem:  Unisantos apresentação TDE segundo semestre\n",
            "Chave pública (p, e1, e2):  {426405985185585738245912460581} {99821760277265263028138635870} {302950666188445884583646762350}\n",
            "Chave privada (d):  {345632924691155804680066935559}\n",
            "Texto criptografado:  41886129933562157372537331857834995754372822776557892536705660352302156880095272493899468698113665282020131811678266703526701870192315060643028325970174603951611483846587649917137793029015478684093399279888354737038115034066704035542666694049249945251069230818948964792237298915834303451174345439697872533860541521379403450738756048734881617163662575959210052740256107740288984013396230965851047511376239690878923214656965917324959643103749923914389871352149283633958971656046686097149777022086136501742708142479104518498092736048930898065090663417000580200334801175453862135214500015897257420876493079276722933979011238757526139809668562192966231917636252624122511691968572553375220591101497265592568882045809273518922411833765165660714583522535794842903972317719496573431763009256616031795726366013171613744691687836876338162199579631509263064532351975624601443521193215182177118555571882229741981442572110077807520773187876514671130454891640078086597034411204613627849513780090220615181265262365840926877427991173912289713251800005553809519870675203733775708088323416499700377782142170690121957617393634189294422105278548464243517875768132428756297032819328332391458738619161407489115778062739255365972856959038661249331851636978073923285540149174990856071281910658781812623122629046904597483203321560162499269725301054273529413511679851613757425970534319211383330485094217865094460499168132069151103713250645119837832963342035153653702697262581843622421435863187199851375421987544428989446399570434156876817574727586748162504446805070748557123794655628985686379309090311191922055765961720158559228566993014911624532803181395720977000829433368668285852775045359821441085184148325740923379747543352186844036608389210023713693150516893094262389023384738982027406046568821275335540777036539001100275394498114427814031426843509742583298656734107777548798425745420022429926348763797928109629950754893234597542871115579033879961038184718720275011021571601989201663590997408691770337748103529947668735096269273422612170202068675255543239400114508447177847256918987304191387992422761032651577520566550981055331445438528261819832721177454460468008402531740492636320360144139489541532058211449431351970970121569839394155270941040206475098859323286400661204932364106526772316716014022321877298654845713833018636022044922072849808596609139741251745944040369308100859967973244918913639025545284858647286424558115202187425587519445366024614555781138261915128119433572115112658652334104797214585036933192182691854908239439856365648670459112657685806694334501671284510823335767001387688469196348416754438442490028906522204500281401325116355534723330006993287778775\n",
            "Mensagem descriptografada: Unisantos apresentação TDE segundo semestre\n"
          ]
        }
      ],
      "source": [
        "import random\n",
        "import math\n",
        "\n",
        "#criptografia el gamal\n",
        "#chaves publicas: e1 (inteiro alatório), e2 (e1^d mod p), p (primo grande aleatório)\n",
        "#chave privada: d (inteiro aleatório)\n",
        "#fórmula p/ criptografar:\n",
        "#cifra 1 -> e1^r mod p\n",
        "#cifra 2 -> mensagem * (e2^r mod p)\n",
        "#fórmula p/ descriptografar:\n",
        "#mensagem -> c2*((c1^d)^-1) mod p\n",
        "\n",
        "#função p/ exponenciação modular, calcula de forma mais eficiente por serem números grandes\n",
        "#b -> base\n",
        "#p -> potencia\n",
        "#m -> modulo\n",
        "#r -> resultado\n",
        "def mod_exp(b, p, m):\n",
        "    r = 1\n",
        "    while p > 0:\n",
        "        if p % 2 == 1:\n",
        "            r = (r * b) % m\n",
        "        b = (b * b) % m\n",
        "        p //= 2\n",
        "    return r\n",
        "\n",
        "def gerar_chave():\n",
        "  p = 426405985185585738245912460581 #numero primo grande\n",
        "  d = random.randint(2, p-2) #chave privada aleatoria\n",
        "  e1 = random.randint(2, p) #primeira parte p criptografar, inteiro aleatorio\n",
        "  e2 = mod_exp(e1,d,p) #segunda parte p criptografar, calcular e1^d mod p\n",
        "  return p, d, e1, e2\n",
        "\n",
        "#transforma m para ascii\n",
        "def para_ascii(m):\n",
        "    m_cod = [ord(char) for char in m]\n",
        "    return m_cod\n",
        "\n",
        "#criptografar a mensagem usando a chave publica\n",
        "def criptografar(p, e1, e2, m):\n",
        "  r = random.randint(2, p-2) #inteiro aleatorio para exponenciar\n",
        "  c1 = mod_exp(e1,r,p) #primeira cifra\n",
        "  c2 = m * (mod_exp(e2,r,p)) #segunda cifra\n",
        "  return c1, c2\n",
        "\n",
        "#descriptografar a mensagem (c2*((c1^d)^-1) mod p)\n",
        "#para calcular ^-1 é calculado o inverso multiplicativo de c1\n",
        "def descriptografar(p, d, c1, c2):\n",
        "  s = mod_exp(c1,d,p)\n",
        "  s_inverso = mod_exp(s,p-2,p) #inverso multiplicativo\n",
        "  m = c2 * s_inverso % p\n",
        "  return m\n",
        "\n",
        "#etapa dps d descriptografar, transformar nos numeros ascii dnv e formar o texto original\n",
        "def para_string(cod_ascii):\n",
        "    letra = chr(cod_ascii)\n",
        "    return letra\n",
        "\n",
        "def main():\n",
        "  m = \"Unisantos apresentação TDE segundo semestre\" #mensagem\n",
        "  m_cod = para_ascii(m) #mensagem dps de mudar para ascii\n",
        "  p, d, e1, e2 = gerar_chave()\n",
        "\n",
        "  print(\"Mensagem: \", m)\n",
        "  print(\"Chave pública (p, e1, e2): \", {p},{e1},{e2})\n",
        "  print(\"Chave privada (d): \", {d})\n",
        "\n",
        "#criptografando o texto----------------------\n",
        "  c = [[0, 0] for _ in range(len(m))] #matriz para armazenar cifra 1 e cifra 2 de cada letra\n",
        "\n",
        "  for i in range(len(m)):\n",
        "     c1, c2 = criptografar(p, e1, e2, m_cod[i]) #criptografa letra por caracter e retorna 2 cifras\n",
        "     c[i][0] = c1 #armazena cifra 1\n",
        "     c[i][1] = c2 #armazena cifra 2\n",
        "\n",
        "  #tira os c1 e c2 das chaves\n",
        "  cifras_concat = [f\"{cifra[0]}{cifra[1]}\" for cifra in c]\n",
        "\n",
        "  #junta todes em uma string\n",
        "  c_concat = \"\".join(cifras_concat)\n",
        "\n",
        "  #printa tode o texto criptografade\n",
        "  print(\"Texto criptografado: \", c_concat)\n",
        "\n",
        "  #descriptografando o texto----------------------\n",
        "  m_descript = [[0] for _ in range(len(m))]\n",
        "\n",
        "  for i in range(len(m)):\n",
        "     m_descod = descriptografar(p, d, c[i][0], c[i][1]) #retorna o código ascii de cada caracter\n",
        "     m_descript[i] = para_string(m_descod) #retorna o caracter\n",
        "\n",
        "  txt_descript = '' #variavel qualquer para armazenar o texto original\n",
        "  for i in range(len(m)):\n",
        "     txt_descript += str(m_descript[i]) #transformando em string e concatenando\n",
        "\n",
        "\n",
        "  print(\"Mensagem descriptografada:\",txt_descript)\n",
        "\n",
        "if __name__ == '__main__':\n",
        "  main()"
      ]
    },
    {
      "cell_type": "code",
      "source": [],
      "metadata": {
        "id": "mTWT-uhwwOEA"
      },
      "execution_count": null,
      "outputs": []
    }
  ]
}